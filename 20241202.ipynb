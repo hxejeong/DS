{
 "cells": [
  {
   "cell_type": "markdown",
   "id": "ce9f47be",
   "metadata": {},
   "source": [
    "# 문제 1: LeetCode 225 - Implement Stack using Queues\n",
    "\n",
    "문제 설명: 큐(Queue)를 이용해 스택(Stack)을 구현하라.  \n",
    "**제약사항:**\n",
    "- `push(x)`는 요소 x를 스택에 삽입\n",
    "- `pop()`은 스택의 맨 위 요소 제거\n",
    "- `top()`은 스택의 맨 위 요소 반환\n",
    "- `empty()`는 스택이 비었는지 확인\n",
    "\n",
    "큐의 표준 연산만 사용 가능 (push to back, peek/pop from front, size, and is empty)."
   ]
  },
  {
   "cell_type": "code",
   "execution_count": null,
   "id": "67365727",
   "metadata": {},
   "outputs": [],
   "source": [
    "from collections import deque\n",
    "\n",
    "class MyStack:\n",
    "    def __init__(self):\n",
    "        self.q = deque()\n",
    "\n",
    "    def push(self, x: int) -> None:\n",
    "        self.q.append(x)\n",
    "        for _ in range(len(self.q) - 1):\n",
    "            self.q.append(self.q.popleft())\n",
    "\n",
    "    def pop(self) -> int:\n",
    "        return self.q.popleft()\n",
    "\n",
    "    def top(self) -> int:\n",
    "        return self.q[0]\n",
    "\n",
    "    def empty(self) -> bool:\n",
    "        return not self.q"
   ]
  },
  {
   "cell_type": "markdown",
   "id": "a360f15c",
   "metadata": {},
   "source": [
    "## 풀이 해설\n",
    "스택은 LIFO(Last-In-First-Out)이지만 큐는 FIFO(First-In-First-Out)입니다.  \n",
    "`push` 할 때, 큐의 모든 원소를 다시 뒤로 보내서 최근 원소가 맨 앞에 오도록 구성했습니다.  \n",
    "이렇게 하면 `pop`과 `top`은 항상 앞(front)에서 처리할 수 있어 스택처럼 동작합니다."
   ]
  },
  {
   "cell_type": "markdown",
   "id": "696adf95",
   "metadata": {},
   "source": [
    "# 문제 2: LeetCode 232 - Implement Queue using Stacks\n",
    "\n",
    "문제 설명: 스택(Stack)을 이용해 큐(Queue)를 구현하라.  \n",
    "**제약사항:**\n",
    "- `push(x)`는 요소 x를 큐에 삽입\n",
    "- `pop()`은 큐의 맨 앞 요소 제거\n",
    "- `peek()`는 큐의 맨 앞 요소 반환\n",
    "- `empty()`는 큐가 비었는지 확인"
   ]
  },
  {
   "cell_type": "code",
   "execution_count": null,
   "id": "69125b6a",
   "metadata": {},
   "outputs": [],
   "source": [
    "class MyQueue:\n",
    "    def __init__(self):\n",
    "        self.in_stack = []\n",
    "        self.out_stack = []\n",
    "\n",
    "    def push(self, x: int) -> None:\n",
    "        self.in_stack.append(x)\n",
    "\n",
    "    def pop(self) -> int:\n",
    "        self.peek()\n",
    "        return self.out_stack.pop()\n",
    "\n",
    "    def peek(self) -> int:\n",
    "        if not self.out_stack:\n",
    "            while self.in_stack:\n",
    "                self.out_stack.append(self.in_stack.pop())\n",
    "        return self.out_stack[-1]\n",
    "\n",
    "    def empty(self) -> bool:\n",
    "        return not self.in_stack and not self.out_stack"
   ]
  },
  {
   "cell_type": "markdown",
   "id": "26afb444",
   "metadata": {},
   "source": [
    "## 풀이 해설\n",
    "스택 두 개를 사용합니다.  \n",
    "`push`는 in_stack에 쌓고, `pop/peek` 시에는 필요할 때만 out_stack으로 옮겨 앞쪽 요소를 얻습니다.  \n",
    "이렇게 하면 큐의 FIFO 특성을 유지할 수 있습니다."
   ]
  }
 ],
 "metadata": {},
 "nbformat": 4,
 "nbformat_minor": 5
}