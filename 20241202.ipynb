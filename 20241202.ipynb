{
 "cells": [
  {
   "cell_type": "markdown",
   "id": "ce9f47be",
   "metadata": {},
   "source": [
    "# LeetCode 225. Implement Stack using Queues"
   ]
  },
  {
   "cell_type": "code",
   "execution_count": 1,
   "id": "67365727",
   "metadata": {},
   "outputs": [],
   "source": [
    "class MyStack(object):\n",
    "\n",
    "    def __init__(self):\n",
    "        self.q = []\n",
    "\n",
    "    def push(self, x):\n",
    "        self.q.append(x)\n",
    "        for __ in range(len(self.q) - 1):\n",
    "            self.q.append(self.q.pop(0))\n",
    "        \n",
    "\n",
    "    def pop(self):\n",
    "        return self.q.pop(0)\n",
    "        \n",
    "\n",
    "    def top(self):\n",
    "        return self.q[0]\n",
    "        \n",
    "\n",
    "    def empty(self):\n",
    "        return len(self.q) == 0"
   ]
  },
  {
   "cell_type": "markdown",
   "id": "a360f15c",
   "metadata": {},
   "source": [
    "## 해설\n",
    "스택은 LIFO고 큐는 FIFO이다.  \n",
    "push 할 때, 큐의 모든 아이템을 뒤로 보내 최근 아이템이 맨 앞에 오도록 했다."
   ]
  },
  {
   "cell_type": "markdown",
   "id": "696adf95",
   "metadata": {},
   "source": [
    "# LeetCode 232. Implement Queue using Stacks"
   ]
  },
  {
   "cell_type": "code",
   "execution_count": null,
   "id": "69125b6a",
   "metadata": {},
   "outputs": [],
   "source": [
    "class MyQueue(object):\n",
    "\n",
    "    def __init__(self):\n",
    "        self.in_stack = []\n",
    "        self.out_stack = []\n",
    "\n",
    "    def push(self, x):\n",
    "        self.in_stack.append(x)\n",
    "        \n",
    "\n",
    "    def pop(self):\n",
    "        self.peek()\n",
    "        return self.out_stack.pop()\n",
    "        \n",
    "\n",
    "    def peek(self):\n",
    "        if not self.out_stack:\n",
    "            while self.in_stack:\n",
    "                self.out_stack.append(self.in_stack.pop())\n",
    "        return self.out_stack[-1]\n",
    "        \n",
    "\n",
    "    def empty(self):\n",
    "        return not self.in_stack and not self.out_stack"
   ]
  },
  {
   "cell_type": "markdown",
   "id": "26afb444",
   "metadata": {},
   "source": [
    "## 해설\n",
    "스택 두 개를 사용했다.  \n",
    "push는 in_stack, pop과 peek에는 필요할 때만 out_stack으로 옮겨 FIFO를 유지했다. "
   ]
  },
  {
   "cell_type": "markdown",
   "id": "7218346a-cf43-4328-abcb-a7d306196b71",
   "metadata": {},
   "source": [
    "# 큐 연습문제"
   ]
  },
  {
   "cell_type": "markdown",
   "id": "b8d25da8-5193-430d-b4da-74b95ccad831",
   "metadata": {},
   "source": [
    "## 1"
   ]
  },
  {
   "cell_type": "code",
   "execution_count": null,
   "id": "72a3ed79-3211-47cf-bbf0-68e08b7544a4",
   "metadata": {},
   "outputs": [],
   "source": [
    "class ListQueue:\n",
    "\tdef __init__(self):\n",
    "    \tself.__queue = []\n",
    "    \n",
    "    def enqueue(self, x):\n",
    "    \tself.__queue.insert(0, x)\n",
    "        \n",
    "    def dequeue(self):\n",
    "    \treturn self.__queue.pop()\n",
    "        \n",
    "    def front(self):\n",
    "        \treturn self.__queue[len(self.__queue) - 1]\n",
    "            \n",
    "    def is_empty(self) -> bool:\n",
    "    \treturn len(self.__queue)\n",
    "        \n",
    "    def dequeue_all(self):\n",
    "    \tself.__queue.clear()"
   ]
  },
  {
   "cell_type": "markdown",
   "id": "1176af8f-e907-4500-88af-e032ff63bac1",
   "metadata": {},
   "source": [
    "## 2"
   ]
  },
  {
   "cell_type": "code",
   "execution_count": null,
   "id": "ff9b83c8-7ffe-457e-ba57-c9d7912e756f",
   "metadata": {},
   "outputs": [],
   "source": [
    "def is_set(string: String) -> bool:\n",
    "\tq = ListQueue()\n",
    "    index = 0\n",
    "    while string[index] != '$':\n",
    "    \tq.enqueue(string[index])\n",
    "        index += 1\n",
    "    index += 1\n",
    "    while index < len(string):\n",
    "    \tif q.dequeue() != string[index]:\n",
    "        \treturn False\n",
    "        else:\n",
    "        \tindex += 1\n",
    "    return True"
   ]
  },
  {
   "cell_type": "markdown",
   "id": "783f0008-ec8e-487a-abac-53d2912f2b59",
   "metadata": {},
   "source": [
    "## 3"
   ]
  },
  {
   "cell_type": "code",
   "execution_count": null,
   "id": "c839b17a-f168-4466-a21c-a9e8471447b2",
   "metadata": {},
   "outputs": [],
   "source": [
    "def copy(a: LinkedQueue, b: LinkedQueue):\n",
    "\tb.dequeue_all()\n",
    "    tmp = LinkedQueue()\n",
    "    while not a.is_empty():\n",
    "    \ttmp.enqueue(a.dequeue())\n",
    "    while not tmp.is_empty():\n",
    "    \ta.enqueue(temp_queue.front())\n",
    "        b.enqueue(temp_queue.dequeue())"
   ]
  },
  {
   "cell_type": "markdown",
   "id": "1d92387b-6c7d-4eed-a679-87256e26c6b0",
   "metadata": {},
   "source": [
    "## 4"
   ]
  },
  {
   "cell_type": "code",
   "execution_count": null,
   "id": "c26fac16-1e0e-4c2e-b08f-69ad82f44826",
   "metadata": {},
   "outputs": [],
   "source": [
    "def push(q1: LinkedQueue, q2: LinkedQueue, x):\n",
    "\tq2.dequeue_all()\n",
    "\twhile not q1.is_empty():\n",
    "    \tq2.enqueue(q1.dequeue())\n",
    "    q1.enqueue(x)\n",
    "    while not q2.is_empty():\n",
    "    \tq1.enqueue(q2.dequeue())\n",
    "\n",
    "def pop(q1: LinkedQueue, q2: LinkedQueue):\n",
    "\tq2.dequeue_all()\n",
    "    cnt = 0\n",
    "\twhile not q1.is_empty():\n",
    "    \tq2.enqueue(q1.dequeue())\n",
    "        cnt += 1\n",
    "    while _ in range(cnt - 1):\n",
    "    \tq1.enqueue(q2.dequeue())\n",
    "    return q2.dequeue()"
   ]
  },
  {
   "cell_type": "markdown",
   "id": "e7d85b23-a2ce-4fed-a1af-080e63240a15",
   "metadata": {},
   "source": [
    "## 5"
   ]
  },
  {
   "cell_type": "code",
   "execution_count": null,
   "id": "99b8e07c-1cf3-4753-be9c-cdd3a397836b",
   "metadata": {},
   "outputs": [],
   "source": [
    "def enqueue(s1: LinkedStack, s2: LinkedStack, x):\n",
    "\ts2.pop_all()\n",
    "    while not s1.is_empty():\n",
    "    \ts2.push(s1.pop())\n",
    "    s1.push(x)\n",
    "    while not s2.is_empty():\n",
    "    \ts1.push(s2.pop())\n",
    "\n",
    "def dequeue(s1: LinkedStack, s2: LinkedStack):\n",
    "\ts2.pop_all()\n",
    "    while not s1.is_empty():\n",
    "    \ts2.push(s1.pop())\n",
    "    ret_item = s2.pop()\n",
    "    while not s2.is_empty():\n",
    "    \ts1.push(s2.pop())\n",
    "    return ret_x"
   ]
  },
  {
   "cell_type": "markdown",
   "id": "a6379754-e5d0-4bfd-b9e4-3d2e6cd4c267",
   "metadata": {},
   "source": [
    "## 6\n",
    "\n",
    "enqueue의 수행 시간은 위치에 상관없이 항상 Θ(1)이다. dequeue 역시 수행 시간은 위치에 상관없이 항상 Θ(1)이다."
   ]
  },
  {
   "cell_type": "markdown",
   "id": "469fbbda-7693-437f-8145-07820b572408",
   "metadata": {},
   "source": [
    "## 7\n",
    "\n",
    "enqueue의 수행 시간은 앞에서 수행할 경우 Θ(1)이고 끝에서 수행할 경우 Θ(n)이다. dequeue의 경우 수행 시간은 앞에서 수행할 경우 Θ(1)이고 끝에서 수행할 경우 Θ(n)이다."
   ]
  },
  {
   "cell_type": "markdown",
   "id": "c4053620-3a43-427a-829d-5fc097551ccb",
   "metadata": {},
   "source": [
    "## 8"
   ]
  },
  {
   "cell_type": "code",
   "execution_count": null,
   "id": "601efa65-23f5-49eb-b4d7-08249673794f",
   "metadata": {},
   "outputs": [],
   "source": [
    "class ListDeque:\n",
    "\tdef __init__(self):\n",
    "    \tself.__queue = []\n",
    "    \n",
    "    def enqueue(self, x):\n",
    "    \tself.__queue.append(x)\n",
    "    \n",
    "    def dequeue(self):\n",
    "    \treturn self.__queue.pop(0)\n",
    "\n",
    "    def front(self):\n",
    "    \tif self.is_empty():\n",
    "        \treturn None\n",
    "        else:\n",
    "        \treturn self.__queue[0]\n",
    "\n",
    "    def isEmpty(self) -> bool:\n",
    "    \treturn (len(self.__queue) == 0)\n",
    "    \n",
    "    def dequeAll(self):\n",
    "    \tself.__queue.clear()\n",
    "    \n",
    "    def push(self, x):\n",
    "    \tself.__queue.insert(0, x)\n",
    "    \n",
    "    def pop(self):\n",
    "    \treturn self.__queue.pop(len(self.__queue) - 1)\n",
    "\n",
    "    def printDeque(self):\n",
    "    \tprint(\"Dequeue from front:\", end = ' ')\n",
    "        for i in range(len(self.__queue)):\n",
    "        \tprint(self.__queue[i], end = ' ')\n",
    "        print()"
   ]
  }
 ],
 "metadata": {
  "kernelspec": {
   "display_name": "Python 3 (ipykernel)",
   "language": "python",
   "name": "python3"
  },
  "language_info": {
   "codemirror_mode": {
    "name": "ipython",
    "version": 3
   },
   "file_extension": ".py",
   "mimetype": "text/x-python",
   "name": "python",
   "nbconvert_exporter": "python",
   "pygments_lexer": "ipython3",
   "version": "3.12.7"
  }
 },
 "nbformat": 4,
 "nbformat_minor": 5
}
